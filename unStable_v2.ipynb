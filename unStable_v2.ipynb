{
  "nbformat": 4,
  "nbformat_minor": 0,
  "metadata": {
    "colab": {
      "provenance": [],
      "collapsed_sections": [
        "8DyxtdTun9yt"
      ],
      "mount_file_id": "1JZwGlLGxqxIv9ynrMEFnh8ej_z4rBoIE",
      "authorship_tag": "ABX9TyNoj5Kdn7fzL8HMsZGoemSY",
      "include_colab_link": true
    },
    "kernelspec": {
      "name": "python3",
      "display_name": "Python 3"
    },
    "language_info": {
      "name": "python"
    }
  },
  "cells": [
    {
      "cell_type": "markdown",
      "metadata": {
        "id": "view-in-github",
        "colab_type": "text"
      },
      "source": [
        "<a href=\"https://colab.research.google.com/github/keirVQGAN/unstablev2/blob/main/unStable_v2.ipynb\" target=\"_parent\"><img src=\"https://colab.research.google.com/assets/colab-badge.svg\" alt=\"Open In Colab\"/></a>"
      ]
    },
    {
      "cell_type": "code",
      "source": [
        "#@markdown `setup.py`\n",
        "import os\n",
        "import shutil\n",
        "import subprocess\n",
        "from google.colab import drive, userdata\n",
        "\n",
        "# Get SD Apikey\n",
        "# api_key = userdata.get('yetiKey')\n",
        "\n",
        "# Mount Google Drive only if not already mounted\n",
        "drive_path = '/content/drive/'\n",
        "if not os.path.isdir(drive_path):\n",
        "    drive.mount(drive_path)\n",
        "\n",
        "# Define paths for the project\n",
        "project_path_drive = os.path.join(drive_path, 'MyDrive/unstable_output')  # Original location\n",
        "project_path_local = '/content/unstable_output'  # New symlink location\n",
        "json_path = os.path.join(project_path_local, 'data')\n",
        "\n",
        "# Ensure the project and json directories exist\n",
        "os.makedirs(project_path_drive, exist_ok=True)\n",
        "\n",
        "# Check if the symlink or directory already exists\n",
        "if os.path.exists(project_path_local):\n",
        "    # If it's a symlink, remove it\n",
        "    if os.path.islink(project_path_local):\n",
        "        os.unlink(project_path_local)\n",
        "\n",
        "os.symlink(project_path_drive, project_path_local)\n",
        "\n",
        "# Remove the sample_data folder, if it exists, ignoring errors\n",
        "shutil.rmtree('/content/sample_data', ignore_errors=True)\n",
        "\n",
        "if not os.path.isdir('/content/unstablev2/'):\n",
        "    subprocess.run([\"git\", \"clone\", \"https://github.com/keirVQGAN/unstablev2\"], check=True)\n",
        "\n",
        "# Change directory to the cloned repository\n",
        "os.chdir('/content/unstablev2/')\n",
        "\n",
        "print('unstableAPI Installed')\n"
      ],
      "metadata": {
        "id": "iHbrddmGZG9G",
        "cellView": "form",
        "colab": {
          "base_uri": "https://localhost:8080/"
        },
        "outputId": "8e7d2c5e-612a-4c8d-c0b9-2e567902b9bf"
      },
      "execution_count": 1,
      "outputs": [
        {
          "output_type": "stream",
          "name": "stdout",
          "text": [
            "unstableAPI Installed\n"
          ]
        }
      ]
    },
    {
      "cell_type": "markdown",
      "source": [
        "<details>\n",
        "<summary><b>Parameter Configuration Guide (Click to Expand)</b></summary>\n",
        "<p>\n",
        "\n",
        "This section guides you through setting up the parameters for your image generation request. Follow the instructions below to customize your request according to your needs.\n",
        "\n",
        "#### General Instructions\n",
        "- **Lists**: Use lists `[]` to iterate a parameter. Example: `height: [1024, 512]`.\n",
        "- **Quotation Marks**: Include quotes for parameters that are strings. Example: `prompt: \"A beautiful landscape\"`.\n",
        "- **No Quotes for Numerical Values**: Do not include quotes for numerical values or booleans. Example: `samples: 1`.\n",
        "\n",
        "#### Parameter Details\n",
        "\n",
        "- **`prompt`**: Enter a descriptive text for the image you wish to generate. Use quotes.\n",
        "  - Example: `\"A stunning sculpture of a woman's head formed from fantastical flowers covered in neon pigment paints\"`\n",
        "- **`width`, `height`**: Specify the dimensions of the image. Use a list for multiple options.\n",
        "  - Example: `width: [1024]`, `height: [1024, 512]`\n",
        "- **`samples`**: The number of images to generate. Slide to select between 1 and 4.\n",
        "- **`seed`**: Seed for reproducibility. Leave as `None` for random or specify an integer.\n",
        "- **`strength`**: Control the influence of the initial image. A decimal between 0 and 1.\n",
        "- **`init_image`**, **`mask_image`**: URLs for the initial and mask images, if applicable. Use quotes.\n",
        "- **`instant_response`**: Enable to receive an immediate response. `True` or `False`.\n",
        "- **`enhance_prompt`**: Toggle to enhance the prompt interpretation. `True` or `False`.\n",
        "- **`enhance_style`**: Select or input a style to enhance the image generation. Supports a wide range of styles.\n",
        "- **`safety_checker`**: Enable to check the generated image for safe content. `True` or `False`. </b>"
      ],
      "metadata": {
        "id": "0F3EHr12o_1l"
      }
    },
    {
      "cell_type": "markdown",
      "source": [
        "##### `Generate Images`"
      ],
      "metadata": {
        "id": "0eAhMimb6lwA"
      }
    },
    {
      "cell_type": "code",
      "source": [
        "from unstable import StableDiffusionAPI\n",
        "\n",
        "api_key = \"X9BMj9TeT1TgCJElOM3PzootCWrBdg0oLEJUTBDDT7R3F1MvtEYIsGPgoTej\" # @param {type:\"string\"}\n",
        "prompt = [\"A vast microscopic jungle of neon lit moss, lichen and other fauna\"] # @param\n",
        "width = 1024 # @param\n",
        "height = 1024 # @param {type:\"raw\"}\n",
        "samples = 1 # @param {type:\"slider\", min:1, max:4, step:1}\n",
        "base64 = False\n",
        "seed = None # @param\n",
        "strength = 0.65 # @param\n",
        "init_image = [\"https://ucarecdn.com/550d27db-2d65-400f-bca4-43069f9b9341/boycopy.png\",\"https://ucarecdn.com/b8dca85c-6655-416e-afe1-c88016104482/her7UPSCALEDUPSCALED.png\"] # @param\n",
        "mask_image = '' # @param {type:\"string\"}\n",
        "instant_response = False\n",
        "enhance_prompt = True # @param {type:\"boolean\"}\n",
        "enhance_style = \"\" # @param [\"enhance\", \"cinematic-diva\", \"nude\", \"nsfw\", \"sex\", \"abstract-expressionism\", \"academia\", \"action-figure\", \"adorable-3d-character\", \"adorable-kawaii\", \"art-deco\", \"art-nouveau\", \"astral-aura\", \"avant-garde\", \"baroque\", \"bauhaus-style-poster\", \"blueprint-schematic-drawing\", \"caricature\", \"cel-shaded-art\", \"character-design-sheet\", \"classicism-art\", \"color-field-painting\", \"colored-pencil-art\", \"conceptual-art\", \"constructivism\", \"cubism\", \"dadaism\", \"dark-fantasy\", \"dark-moody-atmosphere\", \"dmt-art\", \"doodle-art\", \"double-exposure\", \"dripping-paint-splatter\", \"expressionism\", \"faded-polaroid-photo\", \"fauvism\", \"flat-2d\", \"fortnite-style\", \"futurism\", \"glitchcore\", \"glo-fi\", \"googie-style\", \"graffiti-art\", \"harlem-renaissance-art\", \"high-fashion\", \"idyllic\", \"impressionism\", \"infographic-drawing\", \"ink-dripping-drawing\", \"japanese-ink-drawing\", \"knolling-photography\", \"light-cheery-atmosphere\", \"logo-design\", \"luxurious-elegance\", \"macro-photography\", \"mandola-art\", \"marker-drawing\", \"medievalism\", \"minimalism\", \"neo-baroque\", \"neo-byzantine\", \"neo-futurism\", \"neo-impressionism\", \"neo-rococo\", \"neoclassicism\", \"op-art\", \"ornate-and-intricate\", \"pencil-sketch-drawing\", \"pop-art-2\", \"rococo\", \"silhouette-art\", \"simple-vector-art\", \"sketchup\", \"steampunk-2\", \"surrealism\", \"suprematism\", \"terragen\", \"tranquil-relaxing-atmosphere\", \"sticker-designs\", \"vibrant-rim-light\", \"volumetric-lighting\", \"watercolor\", \"whimsical-and-playful\", \"sharp\", \"masterpiece\", \"photograph\", \"negative\", \"cinematic\", \"ads-advertising\", \"ads-automotive\", \"ads-corporate\", \"ads-fashion-editorial\", \"ads-food-photography\", \"ads-gourmet-food-photography\", \"ads-luxury\", \"ads-real-estate\", \"ads-retail\", \"abstract\", \"abstract-expressionism\", \"art-deco\", \"art-nouveau\", \"constructivist\", \"cubist\", \"expressionist\", \"graffiti\", \"hyperrealism\", \"impressionist\", \"pointillism\", \"pop-art\", \"psychedelic\", \"renaissance\", \"steampunk\", \"surrealist\", \"typography\", \"watercolor\", \"futuristic-biomechanical\", \"futuristic-biomechanical-cyberpunk\", \"futuristic-cybernetic\", \"futuristic-cybernetic-robot\", \"futuristic-cyberpunk-cityscape\", \"futuristic-futuristic\", \"futuristic-retro-cyberpunk\", \"futuristic-retro\", \"futuristic-sci-fi\", \"futuristic-vaporwave\", \"game-bubble\", \"game-cyberpunk\", \"game-fighting\", \"game-gta\", \"game-mario\", \"game-minecraft\", \"game-pokemon\", \"game-retro-arcade\", \"game-retro\", \"game-rpg-fantasy\", \"game-strategy\", \"game-streetfighter\", \"game-zelda\", \"misc-architectural\", \"misc-disco\", \"misc-dreamscape\", \"misc-dystopian\", \"misc-fairy-tale\", \"misc-gothic\", \"misc-grunge\", \"misc-horror\", \"misc-kawaii\", \"misc-lovecraftian\", \"misc-macabre\", \"misc-manga\", \"misc-metropolis\", \"misc-minimalist\", \"misc-monochrome\", \"misc-nautical\", \"misc-space\", \"misc-stained-glass\", \"misc-techwear-fashion\", \"misc-tribal\", \"misc-zentangle\", \"papercraft-collage\", \"papercraft-flat-papercut\", \"papercraft-kirigami\", \"papercraft-paper-mache\", \"papercraft-paper-quilling\", \"papercraft-papercut-collage\", \"papercraft-papercut-shadow-box\", \"papercraft-stacked-papercut\", \"papercraft-thick-layered-papercut\", \"photo-alien\", \"photo-film-noir\", \"photo-glamour\", \"photo-hdr\", \"photo-iphone-photographic\", \"photo-long-exposure\", \"photo-neon-noir\", \"photo-silhouette\", \"photo-tilt-shift\", \"3d-model\", \"analog-film\", \"anime\", \"comic-book\", \"craft-clay\", \"digital-art\", \"fantasy-art\", \"isometric\", \"line-art\", \"lowpoly\", \"neonpunk\", \"origami\", \"photographic\", \"pixel-art\", \"texture\", \"None\"] {allow-input: true}\n",
        "safety_checker = True # @param {type:\"boolean\"}\n",
        "webhook = None\n",
        "track_id = None\n",
        "\n",
        "# Define the parameters for the image generation request in a dictionary\n",
        "image_params = {\n",
        "    \"prompt\": prompt,\n",
        "    \"width\": width,\n",
        "    \"height\": height,\n",
        "    \"samples\": samples,\n",
        "    \"safety_checker\": safety_checker,\n",
        "    \"base64\": base64,\n",
        "    \"seed\": seed,\n",
        "    \"instant_response\": instant_response,\n",
        "    \"enhance_prompt\": enhance_prompt,\n",
        "    \"enhance_style\": enhance_style,\n",
        "    \"webhook\": webhook,\n",
        "    \"track_id\": track_id,\n",
        "    \"init_image\": init_image,\n",
        "    \"strength\": strength,\n",
        "    \"mask_image\": mask_image\n",
        "}"
      ],
      "metadata": {
        "id": "FD2182azPyRV",
        "cellView": "form"
      },
      "execution_count": 2,
      "outputs": []
    },
    {
      "cell_type": "code",
      "source": [
        "#@markdown Generate Image\n",
        "# Make the API call to generate the image\n",
        "sd_api = StableDiffusionAPI(api_key, json_path, base_url=\"https://modelslab.com/api/v6/realtime\")\n",
        "sd_api.generate_image(**image_params)\n",
        "\n",
        "# Handle any pending images and download the generated images and their metadata\n",
        "print(f'Downloading images and meta data to {json_path}/images')\n",
        "sd_api.handle_pending_images()\n",
        "sd_api.download_images_with_metadata()"
      ],
      "metadata": {
        "id": "xzweKhENXk0-",
        "colab": {
          "base_uri": "https://localhost:8080/"
        },
        "outputId": "2e8bb138-3b57-49b2-fd46-64ba173c9c37"
      },
      "execution_count": 3,
      "outputs": [
        {
          "output_type": "stream",
          "name": "stdout",
          "text": [
            "Status: Success\n",
            "Output URL: https://pub-3626123a908346a7a8be8d9295f44e26.r2.dev/generations/0b472b3d-9ca7-4b76-91a2-d32dedfd1bc1-0.png\n",
            "Meta Data: {'base64': 'no', 'enhance_prompt': 'yes', 'enhance_style': None, 'file_prefix': '0b472b3d-9ca7-4b76-91a2-d32dedfd1bc1', 'guidance_scale': 1, 'height': 1024, 'init_image': 'https://ucarecdn.com/550d27db-2d65-400f-bca4-43069f9b9341/boycopy.png', 'instant_response': 'no', 'n_samples': 1, 'negative_prompt': '', 'outdir': 'out', 'prompt': 'A vast microscopic jungle of neon lit moss, lichen and other fauna', 'safety_checker': 'yes', 'safety_checker_type': 'black', 'seed': 1725712208, 'strength': 0.65, 'temp': 'no', 'width': 1024}\n",
            "Status: Success\n",
            "Output URL: https://pub-3626123a908346a7a8be8d9295f44e26.r2.dev/generations/d2aeabd4-3e25-4349-a736-55429e83c422-0.png\n",
            "Meta Data: {'base64': 'no', 'enhance_prompt': 'yes', 'enhance_style': None, 'file_prefix': 'd2aeabd4-3e25-4349-a736-55429e83c422', 'guidance_scale': 1, 'height': 1024, 'init_image': 'https://ucarecdn.com/b8dca85c-6655-416e-afe1-c88016104482/her7UPSCALEDUPSCALED.png', 'instant_response': 'no', 'n_samples': 1, 'negative_prompt': '', 'outdir': 'out', 'prompt': 'A vast microscopic jungle of neon lit moss, lichen and other fauna', 'safety_checker': 'yes', 'safety_checker_type': 'black', 'seed': 3013329664, 'strength': 0.65, 'temp': 'no', 'width': 1024}\n",
            "Downloading images and meta data to /content/unstable_output/data/images\n"
          ]
        }
      ]
    },
    {
      "cell_type": "code",
      "source": [
        "#@markdown Fetch Generated Images\n",
        "# Handle any pending images and download the generated images and their metadata\n",
        "sd_api.handle_pending_images()\n",
        "sd_api.download_images_with_metadata()"
      ],
      "metadata": {
        "id": "klhspguoXzaa",
        "cellView": "form"
      },
      "execution_count": null,
      "outputs": []
    }
  ]
}